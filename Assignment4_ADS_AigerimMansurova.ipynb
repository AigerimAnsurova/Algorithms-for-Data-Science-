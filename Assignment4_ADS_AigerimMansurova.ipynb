{
 "cells": [
  {
   "cell_type": "code",
   "execution_count": 353,
   "id": "2acdb12b",
   "metadata": {},
   "outputs": [],
   "source": [
    "from sklearn.cluster import KMeans\n",
    "import pandas as pd\n",
    "from sklearn.preprocessing import MinMaxScaler\n",
    "from matplotlib import pyplot as plt\n",
    "import numpy as np\n",
    "%matplotlib inline"
   ]
  },
  {
   "cell_type": "code",
   "execution_count": 354,
   "id": "e490d270",
   "metadata": {},
   "outputs": [],
   "source": [
    "df = pd.DataFrame({'x': [1,2,1,5,6,7,6],\n",
    "                   'y': [2,1,3,4,3,2,1]})"
   ]
  },
  {
   "cell_type": "code",
   "execution_count": 355,
   "id": "5f6799d4",
   "metadata": {},
   "outputs": [
    {
     "data": {
      "text/html": [
       "<div>\n",
       "<style scoped>\n",
       "    .dataframe tbody tr th:only-of-type {\n",
       "        vertical-align: middle;\n",
       "    }\n",
       "\n",
       "    .dataframe tbody tr th {\n",
       "        vertical-align: top;\n",
       "    }\n",
       "\n",
       "    .dataframe thead th {\n",
       "        text-align: right;\n",
       "    }\n",
       "</style>\n",
       "<table border=\"1\" class=\"dataframe\">\n",
       "  <thead>\n",
       "    <tr style=\"text-align: right;\">\n",
       "      <th></th>\n",
       "      <th>x</th>\n",
       "      <th>y</th>\n",
       "    </tr>\n",
       "  </thead>\n",
       "  <tbody>\n",
       "    <tr>\n",
       "      <th>0</th>\n",
       "      <td>1</td>\n",
       "      <td>2</td>\n",
       "    </tr>\n",
       "    <tr>\n",
       "      <th>1</th>\n",
       "      <td>2</td>\n",
       "      <td>1</td>\n",
       "    </tr>\n",
       "    <tr>\n",
       "      <th>2</th>\n",
       "      <td>1</td>\n",
       "      <td>3</td>\n",
       "    </tr>\n",
       "    <tr>\n",
       "      <th>3</th>\n",
       "      <td>5</td>\n",
       "      <td>4</td>\n",
       "    </tr>\n",
       "    <tr>\n",
       "      <th>4</th>\n",
       "      <td>6</td>\n",
       "      <td>3</td>\n",
       "    </tr>\n",
       "    <tr>\n",
       "      <th>5</th>\n",
       "      <td>7</td>\n",
       "      <td>2</td>\n",
       "    </tr>\n",
       "    <tr>\n",
       "      <th>6</th>\n",
       "      <td>6</td>\n",
       "      <td>1</td>\n",
       "    </tr>\n",
       "  </tbody>\n",
       "</table>\n",
       "</div>"
      ],
      "text/plain": [
       "   x  y\n",
       "0  1  2\n",
       "1  2  1\n",
       "2  1  3\n",
       "3  5  4\n",
       "4  6  3\n",
       "5  7  2\n",
       "6  6  1"
      ]
     },
     "execution_count": 355,
     "metadata": {},
     "output_type": "execute_result"
    }
   ],
   "source": [
    "df"
   ]
  },
  {
   "cell_type": "code",
   "execution_count": 356,
   "id": "afad63db",
   "metadata": {},
   "outputs": [
    {
     "data": {
      "text/plain": [
       "<matplotlib.collections.PathCollection at 0x7ff0b8b6e3d0>"
      ]
     },
     "execution_count": 356,
     "metadata": {},
     "output_type": "execute_result"
    },
    {
     "data": {
      "image/png": "[encoded data removed]",
      "text/plain": [
       "<Figure size 432x288 with 1 Axes>"
      ]
     },
     "metadata": {
      "needs_background": "light"
     },
     "output_type": "display_data"
    }
   ],
   "source": [
    "plt.scatter(df['x'], df['y'])"
   ]
  },
  {
   "cell_type": "code",
   "execution_count": 357,
   "id": "7fdc55e5",
   "metadata": {},
   "outputs": [],
   "source": [
    "S = [[1,2], [2,1], [1,3], [5,4], [6,3], [7,2], [6,1]]\n",
    "T = ['x1','x2','x3', 'x4', 'x5', 'x6', 'x7']"
   ]
  },
  {
   "cell_type": "markdown",
   "id": "99c137d5",
   "metadata": {},
   "source": [
    "# Q1. (k-means clustering) What are the resulting clusters when the k-means algorithm is used with k = 3 and initial random means {(2, 2), (3, 4), (6, 2)} on the above dataset S?"
   ]
  },
  {
   "cell_type": "code",
   "execution_count": 358,
   "id": "e556732d",
   "metadata": {},
   "outputs": [
    {
     "data": {
      "text/plain": [
       "<function matplotlib.pyplot.show(close=None, block=None)>"
      ]
     },
     "execution_count": 358,
     "metadata": {},
     "output_type": "execute_result"
    },
    {
     "data": {
      "image/png": "[encoded data removed]",
      "text/plain": [
       "<Figure size 360x360 with 1 Axes>"
      ]
     },
     "metadata": {
      "needs_background": "light"
     },
     "output_type": "display_data"
    }
   ],
   "source": [
    "fig = plt.figure(figsize = (5,5))\n",
    "plt.scatter(df['x'], df['y'], color  = 'k')\n",
    "colmap = {1: 'r', 2:'g', 3:'b'}\n",
    "\n",
    "centroids = {1: [2, 2], 2: [3, 4], 3: [6, 2]}\n",
    "k = 3\n",
    "for i in centroids:\n",
    "    plt.scatter(*centroids[i], color = colmap[i])\n",
    "plt.xlim(0,8)\n",
    "plt.ylim(0,8)\n",
    "plt.show\n",
    "    "
   ]
  },
  {
   "cell_type": "code",
   "execution_count": 359,
   "id": "84513edc",
   "metadata": {},
   "outputs": [],
   "source": [
    "df2 = df.copy()\n",
    "def k_means(df, centroids):\n",
    "\n",
    "    \n",
    "    for i in centroids.keys():\n",
    "        df['distance_from_{}'.format(i)]=(\n",
    "            np.sqrt(\n",
    "                (df['x'] - centroids[i][0])**2\n",
    "                +(df['y']-centroids[i][1])**2\n",
    "            )\n",
    "        )\n",
    "        \n",
    "    dist = ['distance_from_{}'.format(i) for i in centroids.keys()]\n",
    "    df['closest'] = df.loc[:, dist].idxmin(axis = 1)\n",
    "    df['closest'] = df['closest'].map(lambda x: int(x.lstrip('distance_from_')))\n",
    "    df['color'] = df['closest'].map(lambda x: colmap[x])\n",
    "    return df"
   ]
  },
  {
   "cell_type": "code",
   "execution_count": 360,
   "id": "25ccdb14",
   "metadata": {},
   "outputs": [
    {
     "name": "stdout",
     "output_type": "stream",
     "text": [
      "   x  y  distance_from_1  distance_from_2  distance_from_3  closest color\n",
      "0  1  2         1.000000         2.828427         5.000000        1     r\n",
      "1  2  1         1.000000         3.162278         4.123106        1     r\n",
      "2  1  3         1.414214         2.236068         5.099020        1     r\n",
      "3  5  4         3.605551         2.000000         2.236068        2     g\n",
      "4  6  3         4.123106         3.162278         1.000000        3     b\n",
      "5  7  2         5.000000         4.472136         1.000000        3     b\n",
      "6  6  1         4.123106         4.242641         1.000000        3     b\n"
     ]
    }
   ],
   "source": [
    "df2 = k_means(df2, centroids)\n",
    "print(df2)"
   ]
  },
  {
   "cell_type": "code",
   "execution_count": 361,
   "id": "f7d37f25",
   "metadata": {},
   "outputs": [
    {
     "data": {
      "text/plain": [
       "<function matplotlib.pyplot.show(close=None, block=None)>"
      ]
     },
     "execution_count": 361,
     "metadata": {},
     "output_type": "execute_result"
    },
    {
     "data": {
      "image/png": "[encoded data removed]",
      "text/plain": [
       "<Figure size 360x360 with 1 Axes>"
      ]
     },
     "metadata": {
      "needs_background": "light"
     },
     "output_type": "display_data"
    }
   ],
   "source": [
    "fig = plt.figure(figsize = (5,5))\n",
    "plt.scatter(df2['x'], df2['y'], color = df2['color'], alpha = 0.5, edgecolor = 'k')\n",
    "for i in centroids.keys():\n",
    "    plt.scatter(*centroids[i], color = colmap[i])\n",
    "plt.xlim(0, 8)\n",
    "plt.ylim(0, 8)\n",
    "plt.show"
   ]
  },
  {
   "cell_type": "markdown",
   "id": "7441544d",
   "metadata": {},
   "source": [
    "# Q2.  (k-means clustering) What are the final (k = 3) mean values after the k-means algorithm is used with initial (k = 3) mean values {(2,2),(3,4),(6,2)} on the above dataset S?"
   ]
  },
  {
   "cell_type": "code",
   "execution_count": 362,
   "id": "2a668942",
   "metadata": {},
   "outputs": [
    {
     "data": {
      "text/plain": [
       "(0.0, 8.0)"
      ]
     },
     "execution_count": 362,
     "metadata": {},
     "output_type": "execute_result"
    },
    {
     "data": {
      "image/png": "[encoded data removed]",
      "text/plain": [
       "<Figure size 360x360 with 1 Axes>"
      ]
     },
     "metadata": {
      "needs_background": "light"
     },
     "output_type": "display_data"
    }
   ],
   "source": [
    "import copy\n",
    "\n",
    "old_centroids = centroids.copy()\n",
    "\n",
    "def update(k):\n",
    "    for i in centroids.keys():\n",
    "        centroids[i][0] = np.mean(df2[df2['closest']==i]['x'])\n",
    "        centroids[i][1] = np.mean(df2[df2['closest']==i]['y'])\n",
    "    return k\n",
    "centroids = update(centroids)\n",
    "\n",
    "fig = plt.figure(figsize = (5,5))\n",
    "ax = plt.axes()\n",
    "plt.scatter(df2['x'], df2['y'], color = df2['color'], alpha = 0.5, edgecolor = 'k')\n",
    "\n",
    "for i in centroids:\n",
    "    plt.scatter(*centroids[i], color = colmap[i])\n",
    "plt.xlim(0, 8)\n",
    "plt.ylim(0, 8)"
   ]
  },
  {
   "cell_type": "markdown",
   "id": "8b37f58e",
   "metadata": {},
   "source": [
    "# Q3. (k-means clustering) What are the resulting clusters when the k-means algorithm is used with k = 2 and initial random means {(3, 3), (4, 1)} on the above dataset S?"
   ]
  },
  {
   "cell_type": "code",
   "execution_count": 363,
   "id": "6d089850",
   "metadata": {},
   "outputs": [],
   "source": [
    "centroids2 = {1: [3, 3], 2: [4, 1]}\n",
    "k = 2"
   ]
  },
  {
   "cell_type": "code",
   "execution_count": 364,
   "id": "f258d756",
   "metadata": {},
   "outputs": [
    {
     "data": {
      "text/plain": [
       "<function matplotlib.pyplot.show(close=None, block=None)>"
      ]
     },
     "execution_count": 364,
     "metadata": {},
     "output_type": "execute_result"
    },
    {
     "data": {
      "image/png": "[encoded data removed]",
      "text/plain": [
       "<Figure size 360x360 with 1 Axes>"
      ]
     },
     "metadata": {
      "needs_background": "light"
     },
     "output_type": "display_data"
    }
   ],
   "source": [
    "fig = plt.figure(figsize = (5,5))\n",
    "plt.scatter(df['x'], df['y'], color  = 'k')\n",
    "colmap = {1: 'r', 2:'g', 3:'b'}\n",
    "\n",
    "centroids2 = {1: [3, 3], 2: [4, 1]}\n",
    "k = 2\n",
    "for i in centroids2:\n",
    "    plt.scatter(*centroids2[i], color = colmap[i])\n",
    "plt.xlim(0,8)\n",
    "plt.ylim(0,8)\n",
    "plt.show"
   ]
  },
  {
   "cell_type": "markdown",
   "id": "ffaec7d6",
   "metadata": {},
   "source": [
    "# Q4. (k-means clustering) What are the final (k = 2) mean values after the k-means algorithm is used with initial (k = 2) mean values {(3, 3), (4, 1)} on the above dataset S?"
   ]
  },
  {
   "cell_type": "code",
   "execution_count": 365,
   "id": "a9128cb1",
   "metadata": {},
   "outputs": [
    {
     "name": "stdout",
     "output_type": "stream",
     "text": [
      "   x  y  distance_from_1  distance_from_2  closest color\n",
      "0  1  2         2.236068         3.162278        1     r\n",
      "1  2  1         2.236068         2.000000        2     g\n",
      "2  1  3         2.000000         3.605551        1     r\n",
      "3  5  4         2.236068         3.162278        1     r\n",
      "4  6  3         3.000000         2.828427        2     g\n",
      "5  7  2         4.123106         3.162278        2     g\n",
      "6  6  1         3.605551         2.000000        2     g\n"
     ]
    },
    {
     "data": {
      "text/plain": [
       "<function matplotlib.pyplot.show(close=None, block=None)>"
      ]
     },
     "execution_count": 365,
     "metadata": {},
     "output_type": "execute_result"
    },
    {
     "data": {
      "image/png": "[encoded data removed]",
      "text/plain": [
       "<Figure size 360x360 with 1 Axes>"
      ]
     },
     "metadata": {
      "needs_background": "light"
     },
     "output_type": "display_data"
    }
   ],
   "source": [
    "df3 = df.copy()\n",
    "df3 = k_means(df3, centroids2)\n",
    "print(df3)\n",
    "\n",
    "\n",
    "fig = plt.figure(figsize = (5,5))\n",
    "plt.scatter(df3['x'], df3['y'], color = df3['color'], alpha = 0.5, edgecolor = 'k')\n",
    "for i in centroids2.keys():\n",
    "    plt.scatter(*centroids2[i], color = colmap[i])\n",
    "plt.xlim(0, 8)\n",
    "plt.ylim(0, 8)\n",
    "plt.show"
   ]
  },
  {
   "cell_type": "code",
   "execution_count": 366,
   "id": "baf37045",
   "metadata": {},
   "outputs": [
    {
     "data": {
      "text/plain": [
       "(0.0, 8.0)"
      ]
     },
     "execution_count": 366,
     "metadata": {},
     "output_type": "execute_result"
    },
    {
     "data": {
      "image/png": "[encoded data removed]",
      "text/plain": [
       "<Figure size 360x360 with 1 Axes>"
      ]
     },
     "metadata": {
      "needs_background": "light"
     },
     "output_type": "display_data"
    }
   ],
   "source": [
    "def update(k):\n",
    "    for i in centroids2.keys():\n",
    "        centroids2[i][0] = np.mean(df3[df3['closest']==i]['x'])\n",
    "        centroids2[i][1] = np.mean(df3[df3['closest']==i]['y'])\n",
    "    return k\n",
    "centroids2 = update(centroids2)\n",
    "\n",
    "fig = plt.figure(figsize = (5,5))\n",
    "ax = plt.axes()\n",
    "plt.scatter(df3['x'], df3['y'], color = df3['color'], alpha = 0.5, edgecolor = 'k')\n",
    "\n",
    "for i in centroids2:\n",
    "    plt.scatter(*centroids2[i], color = colmap[i])\n",
    "plt.xlim(0, 8)\n",
    "plt.ylim(0, 8)"
   ]
  },
  {
   "cell_type": "code",
   "execution_count": 367,
   "id": "c66701f1",
   "metadata": {},
   "outputs": [
    {
     "name": "stdout",
     "output_type": "stream",
     "text": [
      "   x  y  distance_from_1  distance_from_2  closest color\n",
      "0  1  2         1.666667         4.257347        1     r\n",
      "1  2  1         2.027588         3.335416        1     r\n",
      "2  1  3         1.333333         4.430011        1     r\n",
      "3  5  4         2.848001         2.263846        2     g\n",
      "4  6  3         3.666667         1.457738        2     g\n",
      "5  7  2         4.772607         1.767767        2     g\n",
      "6  6  1         4.176655         1.060660        2     g\n"
     ]
    },
    {
     "data": {
      "text/plain": [
       "<function matplotlib.pyplot.show(close=None, block=None)>"
      ]
     },
     "execution_count": 367,
     "metadata": {},
     "output_type": "execute_result"
    },
    {
     "data": {
      "image/png": "[encoded data removed]",
      "text/plain": [
       "<Figure size 360x360 with 1 Axes>"
      ]
     },
     "metadata": {
      "needs_background": "light"
     },
     "output_type": "display_data"
    }
   ],
   "source": [
    "df3_1 = df3.copy()\n",
    "df3_1 = k_means(df3_1, centroids2)\n",
    "print(df3_1)\n",
    "\n",
    "\n",
    "fig = plt.figure(figsize = (5,5))\n",
    "plt.scatter(df3_1['x'], df3_1['y'], color = df3_1['color'], alpha = 0.5, edgecolor = 'k')\n",
    "for i in centroids2.keys():\n",
    "    plt.scatter(*centroids2[i], color = colmap[i])\n",
    "plt.xlim(0, 8)\n",
    "plt.ylim(0, 8)\n",
    "plt.show"
   ]
  },
  {
   "cell_type": "markdown",
   "id": "efcb4cf8",
   "metadata": {},
   "source": [
    "# Q5. (k-medians clustering) What are the resulting clusters when the k-medians algorithm is used with k = 3 and initial random medians {(2,2),(3,4),(6,2)} on the above dataset S?"
   ]
  },
  {
   "cell_type": "code",
   "execution_count": 368,
   "id": "cc1cb53b",
   "metadata": {},
   "outputs": [
    {
     "name": "stdout",
     "output_type": "stream",
     "text": [
      "   x  y  distance_from_1  distance_from_2  distance_from_3  closest color\n",
      "0  1  2         1.000000         2.828427         5.000000        1     r\n",
      "1  2  1         1.000000         3.162278         4.123106        1     r\n",
      "2  1  3         1.414214         2.236068         5.099020        1     r\n",
      "3  5  4         3.605551         2.000000         2.236068        2     g\n",
      "4  6  3         4.123106         3.162278         1.000000        3     b\n",
      "5  7  2         5.000000         4.472136         1.000000        3     b\n",
      "6  6  1         4.123106         4.242641         1.000000        3     b\n"
     ]
    },
    {
     "data": {
      "text/plain": [
       "<function matplotlib.pyplot.show(close=None, block=None)>"
      ]
     },
     "execution_count": 368,
     "metadata": {},
     "output_type": "execute_result"
    },
    {
     "data": {
      "image/png": "[encoded data removed]",
      "text/plain": [
       "<Figure size 360x360 with 1 Axes>"
      ]
     },
     "metadata": {
      "needs_background": "light"
     },
     "output_type": "display_data"
    }
   ],
   "source": [
    "df4 = df.copy()\n",
    "centroids3 = {1: [2, 2], 2: [3, 4], 3: [6, 2]}\n",
    "def k_means(df, centroids):\n",
    "\n",
    "    \n",
    "    for i in centroids.keys():\n",
    "        df['distance_from_{}'.format(i)]=(\n",
    "            np.sqrt(\n",
    "                (df['x'] - centroids[i][0])**2\n",
    "                +(df['y']-centroids[i][1])**2\n",
    "            )\n",
    "        )\n",
    "        \n",
    "    dist = ['distance_from_{}'.format(i) for i in centroids.keys()]\n",
    "    df['closest'] = df.loc[:, dist].idxmin(axis = 1)\n",
    "    df['closest'] = df['closest'].map(lambda x: int(x.lstrip('distance_from_')))\n",
    "    df['color'] = df['closest'].map(lambda x: colmap[x])\n",
    "    return df\n",
    "\n",
    "df4 = k_means(df4, centroids3)\n",
    "print(df4)\n",
    "fig = plt.figure(figsize = (5,5))\n",
    "plt.scatter(df4['x'], df4['y'], color = df4['color'], alpha = 0.5, edgecolor = 'k')\n",
    "for i in centroids3.keys():\n",
    "    plt.scatter(*centroids3[i], color = colmap[i])\n",
    "plt.xlim(0, 8)\n",
    "plt.ylim(0, 8)\n",
    "plt.show\n"
   ]
  },
  {
   "cell_type": "code",
   "execution_count": 373,
   "id": "83df91c8",
   "metadata": {},
   "outputs": [
    {
     "data": {
      "text/plain": [
       "(0.0, 8.0)"
      ]
     },
     "execution_count": 373,
     "metadata": {},
     "output_type": "execute_result"
    },
    {
     "data": {
      "image/png": "[encoded data removed]",
      "text/plain": [
       "<Figure size 360x360 with 1 Axes>"
      ]
     },
     "metadata": {
      "needs_background": "light"
     },
     "output_type": "display_data"
    }
   ],
   "source": [
    "def update_3(k):\n",
    "    for i in centroids.keys():\n",
    "        centroids3[i][0] = np.median(df4[df4['closest']==i]['x'])\n",
    "        centroids3[i][1] = np.median(df4[df4['closest']==i]['y'])\n",
    "    return k\n",
    "centroids3 = update_3(centroids3)\n",
    "\n",
    "fig = plt.figure(figsize = (5,5))\n",
    "ax = plt.axes()\n",
    "plt.scatter(df4['x'], df4['y'], color = df4['color'], alpha = 0.5, edgecolor = 'k')\n",
    "\n",
    "for i in centroids3:\n",
    "    plt.scatter(*centroids3[i], color = colmap[i])\n",
    "plt.xlim(0, 8)\n",
    "plt.ylim(0, 8)"
   ]
  },
  {
   "cell_type": "markdown",
   "id": "e03e792c",
   "metadata": {},
   "source": [
    "# Q6. (k-medians clustering) What are the final (k = 3) median values after the k-medians algorithm is used with initial (k = 3) median values {(2, 2), (3, 4), (6, 2)} on the above dataset S?"
   ]
  },
  {
   "cell_type": "code",
   "execution_count": 375,
   "id": "fe5bd4cd",
   "metadata": {},
   "outputs": [
    {
     "name": "stdout",
     "output_type": "stream",
     "text": [
      "   x  y  distance_from_1  distance_from_2  distance_from_3  closest color\n",
      "0  1  2         0.000000         4.472136         5.000000        1     r\n",
      "1  2  1         1.414214         4.242641         4.123106        1     r\n",
      "2  1  3         1.000000         4.123106         5.099020        1     r\n",
      "3  5  4         4.472136         0.000000         2.236068        2     g\n",
      "4  6  3         5.099020         1.414214         1.000000        3     b\n",
      "5  7  2         6.000000         2.828427         1.000000        3     b\n",
      "6  6  1         5.099020         3.162278         1.000000        3     b\n"
     ]
    },
    {
     "data": {
      "text/plain": [
       "<function matplotlib.pyplot.show(close=None, block=None)>"
      ]
     },
     "execution_count": 375,
     "metadata": {},
     "output_type": "execute_result"
    },
    {
     "data": {
      "image/png": "[encoded data removed]",
      "text/plain": [
       "<Figure size 360x360 with 1 Axes>"
      ]
     },
     "metadata": {
      "needs_background": "light"
     },
     "output_type": "display_data"
    }
   ],
   "source": [
    "df4_1 = df4.copy()\n",
    "print(k_means(df4_1, centroids3))\n",
    "fig = plt.figure(figsize = (5,5))\n",
    "plt.scatter(df4_1['x'], df4_1['y'], color = df4_1['color'], alpha = 0.5, edgecolor = 'k')\n",
    "for i in centroids3.keys():\n",
    "    plt.scatter(*centroids3[i], color = colmap[i])\n",
    "plt.xlim(0, 8)\n",
    "plt.ylim(0, 8)\n",
    "plt.show"
   ]
  },
  {
   "cell_type": "markdown",
   "id": "2bf3c2d9",
   "metadata": {},
   "source": [
    "# Q7. Find the value in b1."
   ]
  },
  {
   "cell_type": "code",
   "execution_count": 407,
   "id": "47999853",
   "metadata": {},
   "outputs": [],
   "source": [
    "from math import sqrt\n",
    "\n",
    "#Euclidean distance btwn two vectors\n",
    "def DL2(x,y):\n",
    "    dist = 0.0\n",
    "    for i in range(len(x)):\n",
    "        dist += (x[i] - y[i])**2\n",
    "    return sqrt(dist)"
   ]
  },
  {
   "cell_type": "code",
   "execution_count": 408,
   "id": "a4a6cf7f",
   "metadata": {},
   "outputs": [
    {
     "data": {
      "text/plain": [
       "1.0"
      ]
     },
     "execution_count": 408,
     "metadata": {},
     "output_type": "execute_result"
    }
   ],
   "source": [
    "DL2(S[2], S[0])"
   ]
  },
  {
   "cell_type": "markdown",
   "id": "3254d1c3",
   "metadata": {},
   "source": [
    "# Q8. Find the value in b2"
   ]
  },
  {
   "cell_type": "code",
   "execution_count": 409,
   "id": "cbc1c0c6",
   "metadata": {},
   "outputs": [
    {
     "data": {
      "text/plain": [
       "5.0990195135927845"
      ]
     },
     "execution_count": 409,
     "metadata": {},
     "output_type": "execute_result"
    }
   ],
   "source": [
    "DL2(S[5], S[1])"
   ]
  },
  {
   "cell_type": "markdown",
   "id": "a5d10828",
   "metadata": {},
   "source": [
    "# Q9. Find the medoid of the dataset S."
   ]
  },
  {
   "cell_type": "code",
   "execution_count": 419,
   "id": "7159ce51",
   "metadata": {},
   "outputs": [
    {
     "name": "stdout",
     "output_type": "stream",
     "text": [
      "Collecting scikit-learn-extra\n",
      "  Downloading scikit_learn_extra-0.2.0-cp38-cp38-macosx_10_9_x86_64.whl (382 kB)\n",
      "\u001b[2K     \u001b[90m━━━━━━━━━━━━━━━━━━━━━━━━━━━━━━━━━━━━━━━\u001b[0m \u001b[32m382.7/382.7 KB\u001b[0m \u001b[31m3.7 MB/s\u001b[0m eta \u001b[36m0:00:00\u001b[0m00:01\u001b[0m00:01\u001b[0m\n",
      "\u001b[?25hRequirement already satisfied: scikit-learn>=0.23.0 in ./opt/anaconda3/lib/python3.8/site-packages (from scikit-learn-extra) (0.24.1)\n",
      "Requirement already satisfied: numpy>=1.13.3 in ./opt/anaconda3/lib/python3.8/site-packages (from scikit-learn-extra) (1.20.1)\n",
      "Requirement already satisfied: scipy>=0.19.1 in ./opt/anaconda3/lib/python3.8/site-packages (from scikit-learn-extra) (1.6.2)\n",
      "Requirement already satisfied: joblib>=0.11 in ./opt/anaconda3/lib/python3.8/site-packages (from scikit-learn>=0.23.0->scikit-learn-extra) (1.0.1)\n",
      "Requirement already satisfied: threadpoolctl>=2.0.0 in ./opt/anaconda3/lib/python3.8/site-packages (from scikit-learn>=0.23.0->scikit-learn-extra) (2.1.0)\n",
      "Installing collected packages: scikit-learn-extra\n",
      "Successfully installed scikit-learn-extra-0.2.0\n",
      "\u001b[33mWARNING: You are using pip version 22.0.3; however, version 22.0.4 is available.\n",
      "You should consider upgrading via the '/Users/aigerimmansurova/opt/anaconda3/bin/python -m pip install --upgrade pip' command.\u001b[0m\u001b[33m\n",
      "\u001b[0m"
     ]
    }
   ],
   "source": [
    "!pip install scikit-learn-extra\n",
    "\n",
    "from sklearn_extra.cluster import KMedoids\n"
   ]
  },
  {
   "cell_type": "code",
   "execution_count": 432,
   "id": "5b103b9e",
   "metadata": {},
   "outputs": [],
   "source": [
    "kmedoids = KMedoids(n_clusters=1, random_state=0).fit(S)"
   ]
  },
  {
   "cell_type": "code",
   "execution_count": 433,
   "id": "5caa495d",
   "metadata": {},
   "outputs": [
    {
     "data": {
      "text/plain": [
       "array([0, 0, 0, 0, 0, 0, 0])"
      ]
     },
     "execution_count": 433,
     "metadata": {},
     "output_type": "execute_result"
    }
   ],
   "source": [
    "kmedoids.labels_"
   ]
  },
  {
   "cell_type": "code",
   "execution_count": 434,
   "id": "37dbebf3",
   "metadata": {},
   "outputs": [
    {
     "data": {
      "text/plain": [
       "array([[6, 3]])"
      ]
     },
     "execution_count": 434,
     "metadata": {},
     "output_type": "execute_result"
    }
   ],
   "source": [
    "kmedoids.cluster_centers_"
   ]
  },
  {
   "cell_type": "code",
   "execution_count": null,
   "id": "341dcdc1",
   "metadata": {},
   "outputs": [],
   "source": []
  }
 ],
 "metadata": {
  "kernelspec": {
   "display_name": "Python 3",
   "language": "python",
   "name": "python3"
  },
  "language_info": {
   "codemirror_mode": {
    "name": "ipython",
    "version": 3
   },
   "file_extension": ".py",
   "mimetype": "text/x-python",
   "name": "python",
   "nbconvert_exporter": "python",
   "pygments_lexer": "ipython3",
   "version": "3.8.8"
  }
 },
 "nbformat": 4,
 "nbformat_minor": 5
}
